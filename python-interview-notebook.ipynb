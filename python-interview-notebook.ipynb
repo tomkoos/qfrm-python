{
 "cells": [
  {
   "cell_type": "markdown",
   "metadata": {},
   "source": [
    "### 1.1\n",
    "What is the value of $\\sqrt{2}^{\\sqrt{2}^{{\\sqrt{2}^{...}}}}$?"
   ]
  },
  {
   "cell_type": "code",
   "execution_count": null,
   "metadata": {
    "collapsed": false
   },
   "outputs": [],
   "source": [
    "import math\n",
    "result = math.sqrt(2)\n",
    "for i in range(0,90):\n",
    "    result = math.sqrt(2)**result\n",
    "print(result)"
   ]
  },
  {
   "cell_type": "markdown",
   "metadata": {},
   "source": [
    "### 3.1\n",
    "You have a bag with two coins. One will come up heads 40% of the time, and the other will come up heads 60%. You pick a coin randomly, flip it and get a head. What is the probability it will be heads on the next flip?"
   ]
  },
  {
   "cell_type": "code",
   "execution_count": null,
   "metadata": {
    "collapsed": false
   },
   "outputs": [],
   "source": [
    "import random\n",
    "head = 0\n",
    "firstFlipIsaHeadCtr = 0\n",
    "secondFlipIsaHeadCtr = 0\n",
    "for i in range(1,1000000):\n",
    "    if random.random() < 0.5:\n",
    "        probTails = 0.6\n",
    "    else:\n",
    "        probTails = 0.4\n",
    "    coin = math.floor(random.random()/probTails)\n",
    "    if coin > 0:\n",
    "        firstFlipIsaHeadCtr += 1\n",
    "        if math.floor(random.random()/probTails) > 0:\n",
    "            secondFlipIsaHeadCtr += 1\n",
    "print(secondFlipIsaHeadCtr/firstFlipIsaHeadCtr)"
   ]
  },
  {
   "cell_type": "markdown",
   "metadata": {},
   "source": [
    "### 3.1 Object-oriented version\n",
    "here we solve the same problem, but introducing objects to Python.\n",
    "\n",
    "A simplistic approach to OO design is to identify the nouns in the problem description, and consider those be potential *classes*. A class is a template, sort of like a cookie cutter for stamping out identical objects, ready for use.\n",
    "\n",
    "In this problem, we see **coins** and **bag** in the problem description. So let's make them into classes.\n",
    "\n",
    "The *methods* of a class represent the actions we expect of the objects created from the class."
   ]
  },
  {
   "cell_type": "code",
   "execution_count": null,
   "metadata": {
    "collapsed": false
   },
   "outputs": [],
   "source": [
    "import numpy as np\n",
    "\n",
    "class Coin(object): # we capitalize the names of classes\n",
    "    # define a constructor, so that we can create instances (objects) of Coin:\n",
    "    def __init__(self, probHeads):\n",
    "        self.probHeads = probHeads\n",
    "    \n",
    "    def flipIsHead(self):\n",
    "        return np.random.random() < self.probHeads\n",
    "\n",
    "class CoinBag(object):\n",
    "    def __init__(self):\n",
    "        self.coins = []\n",
    "    def addCoin(self, coin):\n",
    "        self.coins.append(coin)\n",
    "    def pickRandomCoin(self):\n",
    "        return np.random.choice(self.coins)\n",
    "    def nextNFlipsAreHeads(self, n):\n",
    "        for i in range(n):\n",
    "            if not flipIsHead(self):\n",
    "                return Flase\n",
    "        return True\n",
    "    \n",
    "cb = CoinBag()\n",
    "cb.addCoin(Coin(0.6))\n",
    "cb.addCoin(Coin(0.4))\n",
    "\n",
    "firstFlipIsaHeadCtr = 0\n",
    "secondFlipIsaHeadCtr = 0\n",
    "for i in range(1,1000000):\n",
    "    randomCoin = cb.pickRandomCoin()\n",
    "    if randomCoin.flipIsHead():\n",
    "        firstFlipIsaHeadCtr += 1\n",
    "        if randomCoin.flipIsHead():\n",
    "            secondFlipIsaHeadCtr += 1\n",
    "print(secondFlipIsaHeadCtr/firstFlipIsaHeadCtr)"
   ]
  },
  {
   "cell_type": "markdown",
   "metadata": {},
   "source": [
    "### 3.1\n",
    "In front of you is a jar of 1000 coins. One of the coins has two heads, and the rest are fair coins. You choose a coin at random, and flip it ten times, getting all heads. What is the probability it is one of the fair coins?"
   ]
  },
  {
   "cell_type": "code",
   "execution_count": null,
   "metadata": {
    "collapsed": false
   },
   "outputs": [],
   "source": [
    "import numpy as np\n",
    "\n",
    "class Coin(object): # we capitalize the names of classes\n",
    "    # define a constructor, so that we can create instances (objects) of Coin:\n",
    "    def __init__(self, probHeads):\n",
    "        self.probHeads = probHeads    \n",
    "    def flipIsHead(self):\n",
    "        return np.random.random() < self.probHeads\n",
    "    def nextNFlipsAreHeads(self, n):\n",
    "        for i in range(n):\n",
    "            if not self.flipIsHead():\n",
    "                return False\n",
    "        return True\n",
    "\n",
    "class CoinBag(object):\n",
    "    def __init__(self):\n",
    "        self.coins = []\n",
    "    def addCoin(self, coin):\n",
    "        self.coins.append(coin)\n",
    "    def pickRandomCoin(self):\n",
    "        return np.random.choice(self.coins)\n",
    "\n",
    "t = 100\n",
    "cb = CoinBag()\n",
    "cb.addCoin(Coin(1))\n",
    "[cb.addCoin(Coin(0.5)) for n in range(999)]\n",
    "numberFair = 0\n",
    "for i in range(t):\n",
    "    randomCoin = cb.pickRandomCoin()\n",
    "    while not randomCoin.nextNFlipsAreHeads(10):\n",
    "        randomCoin = cb.pickRandomCoin()\n",
    "    if randomCoin.probHeads == 0.5:\n",
    "        numberFair += 1\n",
    "print(numberFair/t)"
   ]
  },
  {
   "cell_type": "markdown",
   "metadata": {},
   "source": [
    "### Monty Hall Problem\n",
    "\n",
    "You are a contestant on a game show. You have 3 doors in front of you. Behind two of the doors are goats. Unattractive goats. Behind the other door is a brand new Tesla. The game show host asks you to choose a door. After you do, he opens one of the remaining doors, and there stands a goat. The game show host asks you if you'd like to switch doors. What do you do?"
   ]
  },
  {
   "cell_type": "code",
   "execution_count": null,
   "metadata": {
    "collapsed": false
   },
   "outputs": [],
   "source": [
    "import numpy as np\n",
    "ctr = 0\n",
    "t = 10000\n",
    "for i in range(t):\n",
    "    door = [1,2,3]\n",
    "    prize = np.random.choice(door)\n",
    "    choose = np.random.choice(door)\n",
    "    door.remove(choose)\n",
    "    hostopen = np.random.choice(list(set(door).difference(set([prize]))))\n",
    "    door.remove(hostopen) # change the door\n",
    "    if door[0] == prize:\n",
    "        ctr += 1\n",
    "print(ctr/t) # prob of choosing correct door if switch"
   ]
  },
  {
   "cell_type": "markdown",
   "metadata": {},
   "source": [
    "### 3.5\n",
    "Starting at one vertex of a cube, and moving randomly from vertex to adjacent vertices, what is the expected number of moves until you reach the  vertex opposite from your starting point?"
   ]
  },
  {
   "cell_type": "code",
   "execution_count": null,
   "metadata": {
    "collapsed": false
   },
   "outputs": [],
   "source": [
    "import random\n",
    "s = 0\n",
    "t = 100000\n",
    "for i in range(0,t):\n",
    "    state = 0\n",
    "    c = 0\n",
    "    while state != 3:\n",
    "        x = random.random()\n",
    "        if state == 0:\n",
    "            state = 1\n",
    "        elif state == 1:\n",
    "            if x < 1/3:\n",
    "                state = 0\n",
    "            else:\n",
    "                state = 2\n",
    "        else:\n",
    "            if x < 2/3:\n",
    "                state = 1\n",
    "            else:\n",
    "                state = 3\n",
    "        c+=1\n",
    "    s += c\n",
    "print(s/t)"
   ]
  },
  {
   "cell_type": "markdown",
   "metadata": {},
   "source": [
    "### 3.8\n",
    "You have a spinner that generates random numbers that are uniform between 0 and 1. You sum the spins until the sum is greater than one. What is the expected number of spins?"
   ]
  },
  {
   "cell_type": "code",
   "execution_count": null,
   "metadata": {
    "collapsed": false
   },
   "outputs": [],
   "source": [
    "# import random\n",
    "\n",
    "# AllCtr = 0\n",
    "# t = 1000\n",
    "# for i in range(0,t):\n",
    "#     s = 0\n",
    "#     Ctr = 0\n",
    "#     while s <= 1:\n",
    "#         n = random.random()\n",
    "#         s+=n\n",
    "#         Ctr += 1\n",
    "#     AllCtr += Ctr\n",
    "# print(AllCtr/t)\n",
    "import numpy as np\n",
    "\n",
    "class Spinner(object):\n",
    "    def __init__(self):\n",
    "        self.total = 0\n",
    "        self.spinCtr = 0\n",
    "    def spin(self):\n",
    "        self.total += np.random.random()\n",
    "        self.spinCtr += 1\n",
    "    def reset(self):\n",
    "        self.total = 0\n",
    "        self.spinCtr = 0\n",
    "    def spinUntilGreaterThanOneAndReset(self):\n",
    "        self.reset()\n",
    "        while self.total < 1:\n",
    "            self.spin()\n",
    "        return self.spinCtr\n",
    "\n",
    "ctr = 0\n",
    "t = 100000\n",
    "spinner = Spinner()\n",
    "# for i in range(t):\n",
    "#     ctr += spinner.spinUntilGreaterThanOne()\n",
    "#     spinner.reset()\n",
    "# print(ctr/t)\n",
    "\n",
    "trials = [spinner.spinUntilGreaterThanOneAndReset() for n in range(t)]"
   ]
  },
  {
   "cell_type": "code",
   "execution_count": null,
   "metadata": {
    "collapsed": false
   },
   "outputs": [],
   "source": [
    "%matplotlib inline\n",
    "import matplotlib.pyplot as plt\n",
    "\n",
    "numbins = np.max(trials) - np.min(trials) + 1\n",
    "plt.hist(trials, numbins, normed=True, align='mid')"
   ]
  },
  {
   "cell_type": "markdown",
   "metadata": {},
   "source": [
    "### 4.4\n",
    "You have a basket of $n$ assets. The asset returns are multivariate normal with zero mean. Correlation between any pair of assets is 1/2. What is the probability that $k$ of the assets will have positive return?"
   ]
  },
  {
   "cell_type": "code",
   "execution_count": null,
   "metadata": {
    "collapsed": false
   },
   "outputs": [],
   "source": [
    "import numpy as np\n",
    "dim = 1000\n",
    "k = 100\n",
    "t = 1000\n",
    "ctr = 0\n",
    "for i in range(0,t):    \n",
    "    CovarianceMatrix = np.ones((dim,dim))*.5\n",
    "    np.fill_diagonal(CovarianceMatrix, 1)\n",
    "    L = np.tril(CovarianceMatrix)\n",
    "    UncorRets = np.random.standard_normal(dim)\n",
    "    CorRets = np.dot(L, UncorRets)\n",
    "    if k == (CorRets > 0).sum():\n",
    "        ctr += 1\n",
    "print(ctr/t)"
   ]
  },
  {
   "cell_type": "markdown",
   "metadata": {},
   "source": [
    "### 3.10\n",
    "A stick is broken randomly into 3 pieces. What is the probability of the pieces being able to form a triangle?"
   ]
  },
  {
   "cell_type": "code",
   "execution_count": null,
   "metadata": {
    "collapsed": false
   },
   "outputs": [],
   "source": [
    "import random\n",
    "\n",
    "t = 100000\n",
    "ctr = 0\n",
    "for i in range(0,t):\n",
    "    first = random.random()\n",
    "    second = random.uniform(0,1-first)\n",
    "    left = 1-first-second\n",
    "    if first > second and first > left:\n",
    "        if second + left > first:\n",
    "            ctr+=1\n",
    "    elif second > first and second > left:\n",
    "        if first + left > second:\n",
    "            ctr+=1\n",
    "    else:\n",
    "        if first + second > left:\n",
    "            ctr+=1\n",
    "print(ctr/t)"
   ]
  },
  {
   "cell_type": "markdown",
   "metadata": {},
   "source": [
    "### 3.11\n",
    "A stick is broken randomly into two pieces. The larger piece is then broken randomly into two pieces. What is the probability of the pieces being able to form a triangle?"
   ]
  },
  {
   "cell_type": "code",
   "execution_count": null,
   "metadata": {
    "collapsed": false
   },
   "outputs": [],
   "source": [
    "import random\n",
    "\n",
    "t = 100000\n",
    "ctr = 0\n",
    "for i in range(0,t):\n",
    "    first = random.random()\n",
    "    left = 1 - first\n",
    "    if first > left:\n",
    "        second = random.uniform(0,first)\n",
    "        last = first-second\n",
    "    else:\n",
    "        second = random.uniform(0,left)\n",
    "        last = left-second\n",
    "    if first > second and first > last:\n",
    "        if second + last > first:\n",
    "            ctr+=1\n",
    "    elif second > first and second > last:\n",
    "        if first + last > second:\n",
    "            ctr+=1\n",
    "    else:\n",
    "        if first + second > last:\n",
    "            ctr+=1\n",
    "print(ctr/t)"
   ]
  },
  {
   "cell_type": "markdown",
   "metadata": {},
   "source": [
    "### 5.10\n",
    "Suppose there are 36 students in the QFRM program, each assigned a unique integer from 1 to 36. Thirty-six quarters are laid out on a table in a row, heads up. Each student goes to the table, and if they are assigned the number $n$, they turn over the $n$th coin, the $2n$th coin, and so on. So, for example, the student who is assigned 15 will turn over the 15th and 30th coins. When everyone is done, how many tails are showing?"
   ]
  },
  {
   "cell_type": "code",
   "execution_count": null,
   "metadata": {
    "collapsed": false
   },
   "outputs": [],
   "source": [
    "import random\n",
    "\n",
    "coin = [1]*36\n",
    "students = list(range(1,37))\n",
    "ctr = 0\n",
    "for s in students:\n",
    "    while s <= 36:\n",
    "        if coin[s-1] == 1:\n",
    "            coin[s-1] = 0\n",
    "        else:\n",
    "            coin[s-1] = 1\n",
    "        s += s\n",
    "ctr += coin.count(0)\n",
    "print(ctr)"
   ]
  }
 ],
 "metadata": {
  "anaconda-cloud": {},
  "kernelspec": {
   "display_name": "Python [Root]",
   "language": "python",
   "name": "Python [Root]"
  },
  "language_info": {
   "codemirror_mode": {
    "name": "ipython",
    "version": 3
   },
   "file_extension": ".py",
   "mimetype": "text/x-python",
   "name": "python",
   "nbconvert_exporter": "python",
   "pygments_lexer": "ipython3",
   "version": "3.5.2"
  }
 },
 "nbformat": 4,
 "nbformat_minor": 0
}
