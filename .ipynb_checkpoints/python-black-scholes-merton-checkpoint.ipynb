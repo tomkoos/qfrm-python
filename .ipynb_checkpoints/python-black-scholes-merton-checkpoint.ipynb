{
 "cells": [
  {
   "cell_type": "markdown",
   "metadata": {},
   "source": [
    "# Black-Scholes-Merton option modeling\n",
    "\n",
    "This notebook showcases the expressive power of vectorized code, plotting, and interactivity via widgets. We apply these techniques to Monte Carlo-based and closed form European call option pricing. "
   ]
  },
  {
   "cell_type": "markdown",
   "metadata": {},
   "source": [
    "##  market model\n",
    "\n",
    "We assume that the price of a stock follows the geometric Brownian motion process described by Black-Scholes-Merton. The stock has a starting price $S_0$. The risk-free interest rate $r$ represent the time value of money. Stock volatility $\\sigma$ describes how quickly the stock price moves. The call option is an option to buy at a strike price $K$ expiring at time $T$. The price at time $T$ is given by $S=S_0 e^{(r-\\frac{1}{2}\\sigma^2)T + \\sigma \\sqrt{T} Z}$, where $Z$ is a random variable that has a standard normal distribution (mean zero, variance one).\n",
    "\n",
    "For our example, let's assume the stock price is currently 100 USD, and we have the option to buy the stock at 105 USD in 3 months. The annual volatility of the stock is 40%, and the risk-free rate is 3%.\n",
    "\n",
    "Note the use of NumPy's [random.normal](http://docs.scipy.org/doc/numpy-1.10.1/reference/generated/numpy.random.normal.html) function. Also, note that we alias <code>numpy</code> to <code>np</code>. You can choose your own aliases, but there are [Python library alias conventions](https://www.quantifiedcode.com/knowledge-base/readability/Use%20common%20abbreviations%20for%20libraries/7jRPIvMK) that you can follow to make your code more readable for others. "
   ]
  },
  {
   "cell_type": "code",
   "execution_count": 2,
   "metadata": {
    "collapsed": false
   },
   "outputs": [
    {
     "name": "stdout",
     "output_type": "stream",
     "text": [
      "101.038517581\n"
     ]
    }
   ],
   "source": [
    "import math\n",
    "import numpy as np\n",
    "\n",
    "np.random.seed(1)\n",
    "def bsm(s_0, r, sigma, t, z):\n",
    "    return s_0*np.exp((r-0.5*sigma**2)*t + sigma*np.sqrt(t)*z)\n",
    "\n",
    "print(bsm(100, 0.03, 0.1, 1.0/252, np.random.standard_normal()))"
   ]
  },
  {
   "cell_type": "markdown",
   "metadata": {},
   "source": [
    "## vector-based market model\n",
    "\n",
    "The <code>bsm</code> function above can generate a single observation from the distribution of prices at time $T$. Since we are using a Monte Carlo appproach, however, we will want $n$ simulations. In a language like Java or C++, a typical approach might be to call <code>bsm</code> $N$ times. But NumPy provides support for vectorizing calculations, making code faster and more concise. We can make a small modification to vectorize our <code>bsm</code> function, by replacing <code>math.exp</code> with <code>numpy.exp</code>."
   ]
  },
  {
   "cell_type": "code",
   "execution_count": 3,
   "metadata": {
    "collapsed": false
   },
   "outputs": [
    {
     "name": "stdout",
     "output_type": "stream",
     "text": [
      "[  87.3845858    88.85766639   79.68460948  117.41934964   62.32498861\n",
      "  139.99861628   84.81130146  105.26468683   93.95313658  132.30260664]\n"
     ]
    }
   ],
   "source": [
    "def bsm(s_0, r, sigma, t, z):\n",
    "    return s_0*np.exp((r-0.5*sigma**2)*t + sigma*np.sqrt(t)*z)\n",
    "\n",
    "n = 10\n",
    "print(bsm(100, 0.03, 0.4, 3.0/12, np.random.standard_normal(n)))"
   ]
  },
  {
   "cell_type": "markdown",
   "metadata": {},
   "source": [
    "## histogram of price distribution\n",
    "\n",
    "We have a collection of random prices. It would be helpful to see what the distribution looks like. For that, we use [matplotlib](http://matplotlib.org)."
   ]
  },
  {
   "cell_type": "code",
   "execution_count": 4,
   "metadata": {
    "collapsed": false
   },
   "outputs": [
    {
     "data": {
      "text/plain": [
       "<matplotlib.text.Text at 0x228683b2588>"
      ]
     },
     "execution_count": 4,
     "metadata": {},
     "output_type": "execute_result"
    },
    {
     "data": {
      "image/png": "[encoded data removed]",
      "text/plain": [
       "<matplotlib.figure.Figure at 0x22866631a20>"
      ]
     },
     "metadata": {},
     "output_type": "display_data"
    }
   ],
   "source": [
    " #needed for plot to appear in Jupyter\n",
    "%matplotlib inline \n",
    "import matplotlib.pyplot as plt\n",
    "\n",
    "n = 1000000\n",
    "prices = bsm(100, 0.03, 0.4, 3.0/12, np.random.standard_normal(n))\n",
    "plt.figure(figsize=(7,4))\n",
    "plt.hist(prices, label=['prices'], bins=100, color='blue')\n",
    "plt.grid(True)\n",
    "plt.xlabel('price')\n",
    "plt.ylabel('frequency')\n",
    "plt.title('Price')"
   ]
  },
  {
   "cell_type": "markdown",
   "metadata": {},
   "source": [
    "## making your plot more interactive\n",
    "\n",
    "You can interact with Jupyter by entering values, and rerunning a cell. In the case of the histogram above, I might be interested in seeing the effect of changing the interest rate, volatility, or the time to expiry. Sliders are preferable for quickly exploring the effect of changing values over a range. For that, you can use [ipywidgets](https://github.com/ipython/ipywidgets). The README includes a tutorial that is also hosted [here](http://nbviewer.jupyter.org/github/quantopian/ipython/blob/master/examples/Interactive%20Widgets/Index.ipynb).\n",
    "\n",
    "GitHub has done us the favor of rendering our notebooks. However, you cannot interact with the rendered notebook. There are some paid services that will host your notebook if you want others to explore it interactively. "
   ]
  },
  {
   "cell_type": "code",
   "execution_count": 12,
   "metadata": {
    "collapsed": false
   },
   "outputs": [
    {
     "data": {
      "image/png": "[encoded data removed]",
      "text/plain": [
       "<matplotlib.figure.Figure at 0x2286905e080>"
      ]
     },
     "metadata": {},
     "output_type": "display_data"
    }
   ],
   "source": [
    "from ipywidgets import interact\n",
    "def plot_histogram(s_0, r, sigma, t, b):\n",
    "    n = 100000\n",
    "    prices = bsm(s_0, r, sigma, t, np.random.standard_normal(n))\n",
    "    plt.figure(figsize=(7,4))\n",
    "    plt.hist(prices, label=['prices'], bins=b, color='blue')\n",
    "    plt.grid(True)\n",
    "    plt.xlabel('price')\n",
    "    plt.ylabel('frequency')\n",
    "    plt.title('Histogram of simulated BSM prices')\n",
    "\n",
    "interact(plot_histogram,  r=(0.0, 0.2, 0.01), sigma=(0.01, 1.0, 0.01), t=(0.01, 2, 0.01), s_0=(100, 200, 1), b=(1,100,1));"
   ]
  },
  {
   "cell_type": "markdown",
   "metadata": {},
   "source": [
    "## estimating expected stock price at expiry\n",
    "I want to estimate the expected stock price at expiry, so I will compute the average of the sampled prices."
   ]
  },
  {
   "cell_type": "code",
   "execution_count": 15,
   "metadata": {
    "collapsed": false
   },
   "outputs": [
    {
     "name": "stdout",
     "output_type": "stream",
     "text": [
      "100.727220481\n"
     ]
    }
   ],
   "source": [
    "n = 1000000\n",
    "print(bsm(100, 0.03, 0.4, 3.0/12, np.random.standard_normal(n)).mean())"
   ]
  },
  {
   "cell_type": "markdown",
   "metadata": {},
   "source": [
    "## estimating option price\n",
    "\n",
    "The point of generating a distribution of stocks prices was to generate a distribution of the option value at maturity. The present value of the average option value at maturity is an estimate of what the option is worth today. "
   ]
  },
  {
   "cell_type": "code",
   "execution_count": 37,
   "metadata": {
    "collapsed": false
   },
   "outputs": [
    {
     "name": "stdout",
     "output_type": "stream",
     "text": [
      "6.21843425276\n"
     ]
    }
   ],
   "source": [
    "n = 100000\n",
    "s_0 = 100\n",
    "r = 0.03\n",
    "sigma = 0.4\n",
    "t = 3.0/12\n",
    "k = 105\n",
    "stockPricesAtExpiry = bsm(s_0, r, sigma, t, np.random.standard_normal(n))\n",
    "optionValueAtExpiry = np.maximum(stockPricesAtExpiry-k,0).mean()\n",
    "optionValueToday = optionValueAtExpiry*math.exp(-r*t)\n",
    "print(optionValueToday)"
   ]
  },
  {
   "cell_type": "markdown",
   "metadata": {},
   "source": [
    "## closed-form BSM\n",
    "\n",
    "How does this compare with the closed-from [Black-Scholes-Merton](https://en.wikipedia.org/wiki/Black–Scholes_model) model? \n",
    "\n",
    "$\\begin{align}\n",
    "  C(S, t) &= \\Phi(d_1)S - \\Phi(d_2) Ke^{-rt} \\\\\n",
    "     d_1 &= \\frac{1}{\\sigma\\sqrt{t}}\\left[\\ln\\left(\\frac{S}{K}\\right) + \\left(r + \\frac{\\sigma^2}{2}\\right)t\\right] \\\\\n",
    "     d_2 &= d_1 - \\sigma\\sqrt{t} \\\\\n",
    "\\end{align}$\n",
    "\n",
    "where $\\Phi$ is the standard normal cumulative distribution function. We use [norm](http://docs.scipy.org/doc/scipy/reference/generated/scipy.stats.norm.html) from scipy.stats."
   ]
  },
  {
   "cell_type": "code",
   "execution_count": 41,
   "metadata": {
    "collapsed": false
   },
   "outputs": [
    {
     "name": "stdout",
     "output_type": "stream",
     "text": [
      "6.19785003662\n"
     ]
    }
   ],
   "source": [
    "from scipy.stats import norm\n",
    "def call(s, r, sigma, t, k):\n",
    "    d1 = (math.log(s/k) + (r+(sigma*sigma)/2)*t)/(sigma*math.sqrt(t))\n",
    "    d2 = d1 - sigma*math.sqrt(t)\n",
    "    return norm.cdf(d1)*s - norm.cdf(d2)*k*math.exp(-r*t)\n",
    "\n",
    "print(call(100, 0.03, 0.4, 3.0/12, 105))"
   ]
  },
  {
   "cell_type": "code",
   "execution_count": null,
   "metadata": {
    "collapsed": true
   },
   "outputs": [],
   "source": []
  }
 ],
 "metadata": {
  "anaconda-cloud": {},
  "kernelspec": {
   "display_name": "Python [Root]",
   "language": "python",
   "name": "Python [Root]"
  },
  "language_info": {
   "codemirror_mode": {
    "name": "ipython",
    "version": 3
   },
   "file_extension": ".py",
   "mimetype": "text/x-python",
   "name": "python",
   "nbconvert_exporter": "python",
   "pygments_lexer": "ipython3",
   "version": "3.5.2"
  }
 },
 "nbformat": 4,
 "nbformat_minor": 0
}
