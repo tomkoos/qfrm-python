{
 "cells": [
  {
   "cell_type": "markdown",
   "metadata": {},
   "source": [
    "### 1.1\n",
    "What is the value of $\\sqrt{2}^{\\sqrt{2}^{{\\sqrt{2}^{...}}}}$?"
   ]
  },
  {
   "cell_type": "code",
   "execution_count": 11,
   "metadata": {
    "collapsed": false
   },
   "outputs": [
    {
     "name": "stdout",
     "output_type": "stream",
     "text": [
      "1.999999999999999\n"
     ]
    }
   ],
   "source": [
    "import math\n",
    "result = math.sqrt(2)\n",
    "for i in range(0,90):\n",
    "    result = math.sqrt(2)**result\n",
    "print(result)"
   ]
  },
  {
   "cell_type": "markdown",
   "metadata": {},
   "source": [
    "### 3.1\n",
    "You have a bag with two coins. One will come up heads 40% of the time, and the other will come up heads 60%. You pick a coin randomly, flip it and get a head. What is the probability it will be heads on the next flip?"
   ]
  },
  {
   "cell_type": "code",
   "execution_count": 57,
   "metadata": {
    "collapsed": false
   },
   "outputs": [
    {
     "name": "stdout",
     "output_type": "stream",
     "text": [
      "0.5193513292581039\n"
     ]
    }
   ],
   "source": [
    "import random\n",
    "head = 0\n",
    "firstFlipIsaHeadCtr = 0\n",
    "secondFlipIsaHeadCtr = 0\n",
    "for i in range(1,1000000):\n",
    "    if random.random() < 0.5:\n",
    "        probTails = 0.6\n",
    "    else:\n",
    "        probTails = 0.4\n",
    "    coin = math.floor(random.random()/probTails)\n",
    "    if coin > 0:\n",
    "        firstFlipIsaHeadCtr += 1\n",
    "        if math.floor(random.random()/probTails) > 0:\n",
    "            secondFlipIsaHeadCtr += 1\n",
    "print(secondFlipIsaHeadCtr/firstFlipIsaHeadCtr)"
   ]
  },
  {
   "cell_type": "markdown",
   "metadata": {},
   "source": [
    "### 3.1\n",
    "In front of you is a jar of 1000 coins. One of the coins has two heads, and the rest are fair coins. You choose a coin at random, and flip it ten times, getting all heads. What is the probability it is one of the fair coins?"
   ]
  },
  {
   "cell_type": "code",
   "execution_count": 21,
   "metadata": {
    "collapsed": false
   },
   "outputs": [
    {
     "name": "stdout",
     "output_type": "stream",
     "text": [
      "0.998\n"
     ]
    }
   ],
   "source": [
    "import random\n",
    "import math\n",
    "s = 0\n",
    "t = 1000\n",
    "for i in range(0,t):\n",
    "    headCtr = 0\n",
    "    recordOfFair = 0\n",
    "    probFair = 999/1000\n",
    "    UnfairOccur = 0\n",
    "    while headCtr != 10:\n",
    "        if UnfairOccur == 0:\n",
    "            coin = math.floor(random.random()/probFair)\n",
    "            if coin != 0:\n",
    "                headCtr+=1\n",
    "                UnfairOccur = 1\n",
    "            elif random.random() < 0.5:\n",
    "                headCtr+=1\n",
    "                recordOfFair += 1\n",
    "            else:\n",
    "                UnfairOccur = 0\n",
    "                recordOfFair = 0\n",
    "                headCtr = 0\n",
    "        else:\n",
    "            coin = random.random()\n",
    "            if coin < 0.5:\n",
    "                headCtr+=1\n",
    "                recordOfFair += 1\n",
    "            else:\n",
    "                UnfairOccur = 0\n",
    "                recordOfFair = 0\n",
    "                headCtr = 0\n",
    "    s += recordOfFair\n",
    "print(s/(t*10))"
   ]
  },
  {
   "cell_type": "markdown",
   "metadata": {},
   "source": [
    "### 3.5\n",
    "Starting at one vertex of a cube, and moving randomly from vertex to adjacent vertices, what is the expected number of moves until you reach the  vertex opposite from your starting point?"
   ]
  },
  {
   "cell_type": "code",
   "execution_count": 32,
   "metadata": {
    "collapsed": false
   },
   "outputs": [
    {
     "name": "stdout",
     "output_type": "stream",
     "text": [
      "10.00218\n"
     ]
    }
   ],
   "source": [
    "import random\n",
    "s = 0\n",
    "t = 100000\n",
    "for i in range(0,t):\n",
    "    state = 0\n",
    "    c = 0\n",
    "    while state != 3:\n",
    "        x = random.random()\n",
    "        if state == 0:\n",
    "            state = 1\n",
    "        elif state == 1:\n",
    "            if x < 1/3:\n",
    "                state = 0\n",
    "            else:\n",
    "                state = 2\n",
    "        else:\n",
    "            if x < 2/3:\n",
    "                state = 1\n",
    "            else:\n",
    "                state = 3\n",
    "        c+=1\n",
    "    s += c\n",
    "print(s/t)"
   ]
  },
  {
   "cell_type": "markdown",
   "metadata": {},
   "source": [
    "### 3.8\n",
    "You have a spinner that generates random numbers that are uniform between 0 and 1. You sum the spins until the sum is greater than one. What is the expected number of spins?"
   ]
  },
  {
   "cell_type": "code",
   "execution_count": 30,
   "metadata": {
    "collapsed": false
   },
   "outputs": [
    {
     "name": "stdout",
     "output_type": "stream",
     "text": [
      "2.715\n"
     ]
    }
   ],
   "source": [
    "import random\n",
    "\n",
    "AllCtr = 0\n",
    "t = 1000\n",
    "for i in range(0,t):\n",
    "    s = 0\n",
    "    Ctr = 0\n",
    "    while s <= 1:\n",
    "        n = random.random()\n",
    "        s+=n\n",
    "        Ctr += 1\n",
    "    AllCtr += Ctr\n",
    "print(AllCtr/t)\n",
    "        "
   ]
  },
  {
   "cell_type": "markdown",
   "metadata": {},
   "source": [
    "### 4.4\n",
    "You have a basket of $n$ assets. The asset returns are multivariate normal with zero mean. Correlation between any pair of assets is 1/2. What is the probability that $k$ of the assets will have positive return?"
   ]
  },
  {
   "cell_type": "code",
   "execution_count": 98,
   "metadata": {
    "collapsed": false
   },
   "outputs": [
    {
     "name": "stdout",
     "output_type": "stream",
     "text": [
      "0.002\n"
     ]
    }
   ],
   "source": [
    "import numpy as np\n",
    "dim = 1000\n",
    "k = 100\n",
    "t = 1000\n",
    "ctr = 0\n",
    "for i in range(0,t):    \n",
    "    CovarianceMatrix = np.ones((dim,dim))*.5\n",
    "    np.fill_diagonal(CovarianceMatrix, 1)\n",
    "    L = np.tril(CovarianceMatrix)\n",
    "    UncorRets = np.random.standard_normal(dim)\n",
    "    CorRets = np.dot(L, UncorRets)\n",
    "    if k == (CorRets > 0).sum():\n",
    "        ctr += 1\n",
    "print(ctr/t)"
   ]
  },
  {
   "cell_type": "markdown",
   "metadata": {},
   "source": [
    "### 3.10\n",
    "A stick is broken randomly into 3 pieces. What is the probability of the pieces being able to form a triangle?"
   ]
  },
  {
   "cell_type": "code",
   "execution_count": 95,
   "metadata": {
    "collapsed": false
   },
   "outputs": [
    {
     "name": "stdout",
     "output_type": "stream",
     "text": [
      "0.19272\n"
     ]
    }
   ],
   "source": [
    "import random\n",
    "\n",
    "t = 100000\n",
    "ctr = 0\n",
    "for i in range(0,t):\n",
    "    first = random.random()\n",
    "    second = random.uniform(0,1-first)\n",
    "    left = 1-first-second\n",
    "    if first > second and first > left:\n",
    "        if second + left > first:\n",
    "            ctr+=1\n",
    "    elif second > first and second > left:\n",
    "        if first + left > second:\n",
    "            ctr+=1\n",
    "    else:\n",
    "        if first + second > left:\n",
    "            ctr+=1\n",
    "print(ctr/t)"
   ]
  },
  {
   "cell_type": "markdown",
   "metadata": {},
   "source": [
    "### 3.11\n",
    "A stick is broken randomly into two pieces. The larger piece is then broken randomly into two pieces. What is the probability of the pieces being able to form a triangle?"
   ]
  },
  {
   "cell_type": "code",
   "execution_count": 93,
   "metadata": {
    "collapsed": false
   },
   "outputs": [
    {
     "name": "stdout",
     "output_type": "stream",
     "text": [
      "0.20198\n"
     ]
    }
   ],
   "source": [
    "import random\n",
    "\n",
    "t = 100000\n",
    "ctr = 0\n",
    "for i in range(0,t):\n",
    "    first = random.random()\n",
    "    left = 1 - first\n",
    "    if first > left:\n",
    "        second = random.uniform(0,first)\n",
    "        last = first-second\n",
    "    else:\n",
    "        second = random.uniform(0,left)\n",
    "        last = left-second\n",
    "    if first > second and first > last:\n",
    "        if second + last > first:\n",
    "            ctr+=1\n",
    "    elif second > first and second > last:\n",
    "        if first + last > second:\n",
    "            ctr+=1\n",
    "    else:\n",
    "        if first + second > last:\n",
    "            ctr+=1\n",
    "print(ctr/t)"
   ]
  },
  {
   "cell_type": "markdown",
   "metadata": {},
   "source": [
    "### 5.10\n",
    "Suppose there are 36 students in the QFRM program, each assigned a unique integer from 1 to 36. Thirty-six quarters are laid out on a table in a row, heads up. Each student goes to the table, and if they are assigned the number $n$, they turn over the $n$th coin, the $2n$th coin, and so on. So, for example, the student who is assigned 15 will turn over the 15th and 30th coins. When everyone is done, how many tails are showing?"
   ]
  },
  {
   "cell_type": "code",
   "execution_count": 121,
   "metadata": {
    "collapsed": false
   },
   "outputs": [
    {
     "name": "stdout",
     "output_type": "stream",
     "text": [
      "24\n"
     ]
    }
   ],
   "source": [
    "import random\n",
    "\n",
    "coin = [1]*36\n",
    "students = list(range(1,37))\n",
    "ctr = 0\n",
    "for s in students:\n",
    "    while s <= 36:\n",
    "        if coin[s-1] == 1:\n",
    "            coin[s-1] = 0\n",
    "        else:\n",
    "            coin[s-1] = 1\n",
    "        s += s\n",
    "ctr += coin.count(0)\n",
    "print(ctr)"
   ]
  },
  {
   "cell_type": "code",
   "execution_count": null,
   "metadata": {
    "collapsed": true
   },
   "outputs": [],
   "source": []
  }
 ],
 "metadata": {
  "anaconda-cloud": {},
  "kernelspec": {
   "display_name": "Python [Root]",
   "language": "python",
   "name": "Python [Root]"
  },
  "language_info": {
   "codemirror_mode": {
    "name": "ipython",
    "version": 3
   },
   "file_extension": ".py",
   "mimetype": "text/x-python",
   "name": "python",
   "nbconvert_exporter": "python",
   "pygments_lexer": "ipython3",
   "version": "3.5.2"
  }
 },
 "nbformat": 4,
 "nbformat_minor": 0
}
